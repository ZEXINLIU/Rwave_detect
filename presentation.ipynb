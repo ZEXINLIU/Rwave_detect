{
 "cells": [
  {
   "cell_type": "markdown",
   "metadata": {},
   "source": [
    "### z变换与Laplace变换的关系\n",
    "设$x_a(t)$为连续信号，则$\\hat{x}_a(t)$为其理想采样信号\n",
    "$$\n",
    "\\hat{x}_a(t) = \\sum_{n=-\\infty}^\\infty x_a(nt) \\delta(t-nT)\n",
    "$$\n",
    "其拉氏变换\n",
    "$$\n",
    "\\hat{X}_a(s) = \\mathcal{L}[\\hat{x}_a(t)] = \\int_{-\\infty}^\\infty \\hat{x}_a(t) e^{-st} \\mathrm{d}t = \\sum_{-\\infty}^\\infty x_a(nT) (e^{sT})^{-n}\n",
    "$$\n",
    "通过变量替换$z = e^{sT}$，以及定义序列$x(n) = x_a(nT)$，得到$x(n)$的z变换\n",
    "$$\n",
    "\\mathcal{Z}[x(n)] = X(z) = \\sum_{-\\infty}^\\infty x(n) z^{-n}\n",
    "$$\n",
    "即序列$x(n)$的z变换，就是理想采样信号的拉氏变换\n",
    "\n"
   ]
  },
  {
   "cell_type": "markdown",
   "metadata": {},
   "source": [
    "### s平面与z平面的映射关系\n",
    "s平面用直角坐标表示：$s = \\sigma + j\\Omega$；z平面用极坐标表示：$z = r e^{jw}$\n",
    "\n",
    "s的实部$\\sigma$，与z的模$r$的对应关系\n",
    "- $\\sigma = 0$对应s平面的虚轴 $\\rightarrow r=1$，即z平面单位圆\n",
    "- $\\sigma > 0$对应s右半平面 $\\rightarrow r>1$，即z平面单位圆以外\n",
    "- $\\sigma < 0$对应s左半平面 $\\rightarrow r<1$，即z平面单位圆以内\n",
    "\n",
    "s的虚部$\\Omega$，与z的相角$w$的对应关系\n",
    "- $\\Omega = 0$对应s平面的实轴 $\\rightarrow w=0$，即z平面正实轴\n",
    "- $\\Omega = \\Omega_0$对应s平面平行于的实轴的直线 $\\rightarrow w=\\Omega_0 T$，即z平面始于原点的射线\n",
    "- $\\Omega \\in (-\\frac{\\pi}{T}, \\frac{\\pi}{T})$对应s平面宽$\\frac{2\\pi}{T}$的水平条带 $\\rightarrow w \\in (-\\pi, \\pi)$，即z整个平面\n",
    "\n",
    "注意：s平面到z平面的映射是多值映射，例如$\\Omega = \\Omega_0 + \\frac{2k\\pi}{T}$和$\\Omega = \\Omega_0$对应于z平面始于原点的同一条射线"
   ]
  },
  {
   "cell_type": "markdown",
   "metadata": {},
   "source": [
    "### 各种频率的定义\n",
    "- 采样频率$f_s$，单位时间内从连续信号中提取并组成离散信号的采样个数，单位是样本/秒，用赫兹（Hz）来表示，采样间隔$T = \\frac{1}{f_s}$\n",
    "- 模拟频率$f$：每秒经历多少个周期，每个周期是$2\\pi$，单位是周期/秒，用赫兹（Hz）来表示，即为通常所说的频率\n",
    "- 模拟角频率$\\Omega$：每秒经历多少弧度，每个周期弧度为$2\\pi$，即$\\Omega = 2\\pi f$，单位是rad/s，没有周期性, $\\Omega \\in (0, \\infty)$\n",
    "- 数字频率$w_d$：每个采样点间隔之间的弧度，单位rad，经过一个周期需要点的个数为$\\frac{2\\pi}{w_d} = \\frac{2\\pi}{\\frac{2 \\pi f}{f_s}} = \\frac{f_s}{f}$，数字角频率相较于模拟角频率而言，具有$2\\pi$周期性\n",
    "\n",
    "数字频率$w_d$与模拟频率$\\Omega$相互转化（从两个角度看）\n",
    "- 1s有$f_s$个样本点，总弧度为$f_s w_d = \\Omega = 2 \\pi f$，于是有\n",
    "$$\n",
    "w_d = \\frac{\\Omega}{f_s} = \\frac{2 \\pi f}{f_s} = \\Omega T = 2 \\pi f T\n",
    "$$\n",
    "- $\\cos(\\Omega t)$中相位变化一个周期（$2\\pi$）所需的时间为$T_0$，即$\\cos(\\Omega t + 2\\pi) = \\cos(\\Omega (t+T_0))$，那么模拟角频率定义成$\\Omega = \\frac{2\\pi}{T_0}$。对于该余弦信号，采样之后变成了一个离散的数字序列，过了间隔$N = T_0 f_s$相位刚好变化一个周期，因此数字角频率推导出为$w_d = \\frac{2\\pi}{N}$\n",
    "$$\n",
    "w_d = \\frac{2\\pi}{T_0 f_s} = \\frac{\\Omega}{f_s}\n",
    "$$\n",
    "总结：数字角频率$w_d$是模拟角频率$\\Omega$对于采样率$f_s$的归一化\n",
    "\n",
    "频谱混叠\n",
    "- 原因：根据$w_d = \\frac{\\Omega}{f_s}$可知，从模拟角频率$\\Omega$到数字角频率$w_d$不只会落在$[-\\pi,\\pi]$，若转为数字频谱后其频带占用超过了$[-\\pi,\\pi]$，则由于具有周期性，相互之间会产生混叠。我们要把$w_d$限定在$[-\\pi,\\pi]$，则得到Nyquist采样定理\n",
    "$$\n",
    "w_d = \\frac{\\Omega_{max}}{f_s} = \\frac{2\\pi f_{max}}{f_s} \\le \\pi, \\quad f_s \\ge 2 f_{max}\n",
    "$$\n",
    "- 解决办法：将模拟角频率限制在$(-\\frac{\\pi}{T}, \\frac{\\pi}{T})$"
   ]
  },
  {
   "cell_type": "markdown",
   "metadata": {},
   "source": [
    "### 将模拟滤波器转化为数字滤波器的基本方法\n",
    "- 脉冲响应不变法\n",
    "$z = e^{sT}$的映射关系反应的是$H_a(s)$的周期延拓与$H(z)$的关系，从$H_a(s)$到$H(z)$没有一个从s平面到z平面的简单代数映射关系\n",
    "数字滤波器的频响也不是简单重现模拟滤波器的频响，而是其周期延拓，周期为$\\Omega_s = \\frac{2\\pi}{T} = 2\\pi f_s$，如果模拟滤波器的频响带限于折叠频率$\\frac{\\Omega_s}{2}$以内，即$H_a(j\\Omega) = 0, |\\Omega| \\ge \\frac{\\pi}{T}$，数字滤波器的频响才能不失真地重现模拟滤波器的频响（在折叠频率以内），即$|w| < \\pi$\n",
    "\n",
    "- 双线性变换法\n",
    "通过s和t的简单代数关系，从模拟传递函数通过代数置换得到数字滤波器的传递函数"
   ]
  },
  {
   "cell_type": "markdown",
   "metadata": {},
   "source": []
  }
 ],
 "metadata": {
  "kernelspec": {
   "display_name": "Python 3.8.0 64-bit",
   "language": "python",
   "name": "python3"
  },
  "language_info": {
   "name": "python",
   "version": "3.8.0 (v3.8.0:fa919fdf25, Oct 14 2019, 10:23:27) \n[Clang 6.0 (clang-600.0.57)]"
  },
  "orig_nbformat": 4,
  "vscode": {
   "interpreter": {
    "hash": "0adcc2737ebf6a4a119f135174df96668767fca1ef1112612db5ecadf2b6d608"
   }
  }
 },
 "nbformat": 4,
 "nbformat_minor": 2
}
